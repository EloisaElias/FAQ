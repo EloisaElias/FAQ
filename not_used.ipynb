{
 "metadata": {
  "name": ""
 },
 "nbformat": 3,
 "nbformat_minor": 0,
 "worksheets": [
  {
   "cells": [
    {
     "cell_type": "code",
     "collapsed": false,
     "input": [
      "#Create \"final_corpus\", \"all_questions\", and \"all_comments\"\n",
      "\n",
      "#\"all_questions\" are not only rows labeled \"CommentThread\" but also rows where there is a question mark - i.e.\n",
      "#clearly a question and not just someone making a statement to initiate a chain.\n",
      "\n",
      "corpus = []\n",
      "for body in forum.body:\n",
      "    corpus.append(''.join(body))    \n",
      "\n",
      "#Clean junk in strings\n",
      "final_corpus = []\n",
      "for c in corpus:\n",
      "    unicode(c)\n",
      "    final_corpus.append(c.replace(\"\\n\",\" \").replace(\"\\n\\n\",\" \"))\n",
      "\n",
      "print len(final_corpus)\n",
      "\n",
      "questions = [ f for f in forum.body[forum.type==\"CommentThread\"] if \"?\" in f ]\n",
      "#Clean junk in strings\n",
      "all_questions = []\n",
      "for q in questions:\n",
      "    unicode(q)\n",
      "    all_questions.append(q.replace(\"\\n\",\" \").replace(\"\\n\\n\",\" \"))\n",
      "\n",
      "print len(all_questions)\n",
      "\n",
      "all_comments = [ comment for comment in final_corpus if comment not in all_questions ]\n",
      "\n",
      "print len(all_comments)\n"
     ],
     "language": "python",
     "metadata": {},
     "outputs": []
    },
    {
     "cell_type": "code",
     "collapsed": false,
     "input": [
      "#TF-IDF calculation on \"all_questions\"\n",
      "#Prior to any topic modeling or clustering\n",
      "#This doesn't work very well - take a look at the questions that are grouped together\n",
      "\n",
      "tfidf = TfidfVectorizer(encoding='utf-8', lowercase = True, \n",
      "                        stop_words = txt.ENGLISH_STOP_WORDS.union(additional_stop_words))\n",
      "tfid = tfidf.fit_transform(all_questions)\n",
      "\n",
      "print tfid.shape"
     ],
     "language": "python",
     "metadata": {},
     "outputs": []
    },
    {
     "cell_type": "code",
     "collapsed": false,
     "input": [
      "#Get the top 10 most similar questions using cosine similarity for each question\n",
      "\n",
      "cosine_similarities = linear_kernel(tfid, tfid)\n",
      "\n",
      "most_similar_index = []\n",
      "for similar in cosine_similarities:\n",
      "    most_similar_index.append(similar.argsort()[-10:][::-1])\n",
      "\n",
      "print len(most_similar_index)"
     ],
     "language": "python",
     "metadata": {},
     "outputs": []
    },
    {
     "cell_type": "code",
     "collapsed": false,
     "input": [
      "for questions in most_similar_index[:10]:\n",
      "    print \"------------------------\"\n",
      "    for q in questions:\n",
      "        print q, \":\", all_questions[q]"
     ],
     "language": "python",
     "metadata": {},
     "outputs": []
    }
   ],
   "metadata": {}
  }
 ]
}